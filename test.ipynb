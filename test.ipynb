{
 "cells": [
  {
   "cell_type": "code",
   "execution_count": 1,
   "metadata": {},
   "outputs": [
    {
     "name": "stderr",
     "output_type": "stream",
     "text": [
      "/home/lesong/anaconda3/envs/simpo/lib/python3.10/site-packages/tqdm/auto.py:21: TqdmWarning: IProgress not found. Please update jupyter and ipywidgets. See https://ipywidgets.readthedocs.io/en/stable/user_install.html\n",
      "  from .autonotebook import tqdm as notebook_tqdm\n"
     ]
    }
   ],
   "source": [
    "from datasets import load_from_disk\n",
    "\n",
    "\n",
    "all_data = []\n",
    "ds_DBAR = load_from_disk(\"/home/lesong/codes/SimPO/datasets/llama3.1_8B_ultrafeedback/cpo_dataset_1\")\n",
    "for item in ds_DBAR[\"train\"]:\n",
    "    all_data.append({\n",
    "        \"prompt\": item[\"prompt\"],\n",
    "        \"chosen\": item[\"chosen\"],\n",
    "        \"rejected\": item[\"rejected\"],\n",
    "        \"type\": \"DBAR\"\n",
    "    })"
   ]
  },
  {
   "cell_type": "code",
   "execution_count": 18,
   "metadata": {},
   "outputs": [],
   "source": [
    "def add_prefix(x):\n",
    "    x[\"prompt\"] = \"tmp\" + x[\"prompt\"]\n",
    "    return x\n",
    "ds_DBAR['train'] = ds_DBAR['train'].map(lambda x: add_prefix(x))"
   ]
  },
  {
   "cell_type": "code",
   "execution_count": 19,
   "metadata": {},
   "outputs": [
    {
     "data": {
      "text/plain": [
       "{'prompt': \"tmpIn this task, you're given reviews of various products in one of these languages 1) English 2) Japanese 3) German 4) French 5) Chinese 6) Spanish. Given a review you need to predict whether the language of the review is english or non-english\\n\\nwent through 3 in one day doesn't fit correct and couldn't get bubbles out (better without)\",\n",
       " 'chosen': [{'content': \"In this task, you're given reviews of various products in one of these languages 1) English 2) Japanese 3) German 4) French 5) Chinese 6) Spanish. Given a review you need to predict whether the language of the review is english or non-english\\n\\nwent through 3 in one day doesn't fit correct and couldn't get bubbles out (better without)\",\n",
       "   'role': 'user'},\n",
       "  {'content': 'I\\'ll do my best to predict the language of the given review. Based on the review \"went through 3 in one day doesn\\'t fit correct and couldn\\'t get bubbles out (better without)\", I would predict that the language of the review is **English**.',\n",
       "   'role': 'assistant'}],\n",
       " 'rejected': [{'content': \"In this task, you're given reviews of various products in one of these languages 1) English 2) Japanese 3) German 4) French 5) Chinese 6) Spanish. Given a review you need to predict whether the language of the review is english or non-english\\n\\nwent through 3 in one day doesn't fit correct and couldn't get bubbles out (better without)\",\n",
       "   'role': 'user'},\n",
       "  {'content': \"To solve this problem, we can use a machine learning approach, specifically a supervised learning algorithm, to classify the language of a review as English or non-English. We'll need a dataset of labeled reviews in the specified languages.\\n\\nHere's an example solution in Python using the NLTK library for text preprocessing and scikit-learn for machine learning:\\n\\n```python\\nimport pandas as pd\\nimport nltk\\nfrom nltk.tokenize import word_tokenize\\nfrom nltk.corpus import stopwords\\nfrom nltk.stem import WordNetLemmatizer\\nfrom sklearn.model_selection import train_test_split\\nfrom sklearn.feature_extraction.text import TfidfVectorizer\\nfrom sklearn.metrics import accuracy_score\\nfrom sklearn.naive_bayes import MultinomialNB\\n\\n# Load the dataset\\nreviews = pd.read_csv('reviews.csv')\\n\\n# Define the languages\\nlanguages = ['English', 'Japanese', 'German', 'French', 'Chinese', 'Spanish']\\n\\n# Map languages to numerical values\\nlanguage_map = {lang: i for i, lang in enumerate(languages)}\\n\\n# Create a function to preprocess the text\\ndef preprocess_text(text):\\n    stop_words = set(stopwords.words('english'))\\n    lemmatizer = WordNetLemmatizer()\\n    tokens = word_tokenize(text)\\n    tokens = [lemmatizer.lemmatize(token.lower()) for token in tokens if token.isalpha() and token not in stop_words]\\n    return ' '.join(tokens)\\n\\n# Apply the preprocessing function to the reviews\\nreviews['text'] = reviews['text'].apply(preprocess_text)\\n\\n# Create the target variable\\nreviews['language'] = reviews['text'].apply(lambda x: language_map[x])\\n\\n# Split the dataset into training and testing sets\\nX_train, X_test, y_train, y_test = train_test_split(reviews['text'], reviews['language'], test_size=0.2, random_state=42)\\n\\n# Create a TF-IDF vectorizer\\nvectorizer = TfidfVectorizer()\\n\\n# Fit the vectorizer to the training data and transform both the training and testing data\\nX_train_tfidf = vectorizer.fit_transform(X_train)\\nX_test_tfidf = vectorizer.transform(X_test)\\n\\n# Train a Naive Bayes classifier\\nclf = MultinomialNB()\\nclf.fit(X_train_tfidf, y_train)\\n\\n# Make predictions on the test set\\ny_pred = clf.predict(X_test_tfidf)\\n\\n# Evaluate the model\\naccuracy = accuracy_score(y_test, y_pred)\\nprint(f'Accuracy: {accuracy:.3f}')\\n\\n# Define a function to predict the language of a review\\ndef predict_language(text):\\n    text = preprocess_text(text)\\n    return language_map[vectorizer.transform([text])[0].argmax()]\\n\\n# Test the predict function\\nprint(predict_language('This is a review in English.'))\\nprint(predict_language('はこのレビューは日本語です。'))\\n```\\n\\nThis script assumes that you have a CSV file named 'reviews.csv' containing the reviews and their corresponding languages. The 'reviews.csv' file should have the following structure:\\n\\n| review | language |\\n| --- | --- |\\n| This is a review in English. | 0 |\\n| これは日本語です。 | 1 |\\n| Das ist eine Bewertung in Deutsch. | 2 |\\n| La révision est en français. | 3 |\\n| 评论是中文。 | 4 |\\n| La revisión es en español. | 5 |\\n\\nYou can adjust the preprocessing function and the vectorizer to better suit your specific needs.\",\n",
       "   'role': 'assistant'}],\n",
       " 'type': 'DBAR'}"
      ]
     },
     "execution_count": 19,
     "metadata": {},
     "output_type": "execute_result"
    }
   ],
   "source": [
    "ds_DBAR['train'][0]"
   ]
  },
  {
   "cell_type": "code",
   "execution_count": 4,
   "metadata": {},
   "outputs": [
    {
     "name": "stderr",
     "output_type": "stream",
     "text": [
      "Saving the dataset (1/1 shards): 100%|██████████| 10665/10665 [00:00<00:00, 51272.00 examples/s]\n",
      "Saving the dataset (1/1 shards): 100%|██████████| 2667/2667 [00:00<00:00, 68377.45 examples/s]\n"
     ]
    }
   ],
   "source": [
    "import datasets\n",
    "import jsonlines\n",
    "\n",
    "\n",
    "output_data = []\n",
    "with jsonlines.open(\"/home/lesong/codes/SimPO/datasets/llama3.1_8B_ultrafeedback/all_train_data_1.json\") as reader:\n",
    "    for obj in reader:\n",
    "        output_data.append(obj)\n",
    "\n",
    "dataset = datasets.Dataset.from_list(output_data)\n",
    "dataset = dataset.train_test_split(test_size=0.2)\n",
    "dataset.save_to_disk(\"/home/lesong/codes/SimPO/datasets/llama3.1_8B_ultrafeedback/cpo_dataset\")"
   ]
  },
  {
   "cell_type": "code",
   "execution_count": 9,
   "metadata": {},
   "outputs": [],
   "source": [
    "import jsonlines\n",
    "\n",
    "with jsonlines.open(\"./on_policy_data_gen/datasets/llama3.1_8B_ultrafeedback/cpo_data.json\") as reader:\n",
    "    for item in reader:\n",
    "        all_data.append({\n",
    "        \"prompt\": item[\"prompt\"],\n",
    "        \"chosen\": item[\"chosen\"],\n",
    "        \"rejected\": item[\"rejected\"],\n",
    "        \"type\": \"D\"\n",
    "    })"
   ]
  },
  {
   "cell_type": "code",
   "execution_count": 12,
   "metadata": {},
   "outputs": [],
   "source": [
    "with jsonlines.open(\"all_train_data.json\", \"w\") as writter:\n",
    "    writter.write_all(all_data)"
   ]
  },
  {
   "cell_type": "code",
   "execution_count": 2,
   "metadata": {},
   "outputs": [
    {
     "name": "stdout",
     "output_type": "stream",
     "text": [
      "{'prompt': 'Your task is to decide whether question decomposition is necessary to answer a given question, if yes, which sub-question shall be asked. \\n    Do not ask same or similar sub-questions that you have asked before.\\n    Decompose the question in a reasonable and smart way. \\n    Only give one sub-question each time.\\n    Sub questions that you have asked before, if any:\\n                \\n                \\n    Think step by step.\\n    Based on the given context, provide your answer to the following question: What is the river where Long Spruce Generating Station is located a tributary of?\\n    Your answer shall be in the following JSON format:\\n    {\\n        \"decomposition\": true, \\n        \"sub question\": <A sub question that you would like to ask>\\n    }\\n    OR\\n    {\"decomposition\": false}\\n    ', 'chosen': [{'content': 'Your task is to decide whether question decomposition is necessary to answer a given question, if yes, which sub-question shall be asked. \\n    Do not ask same or similar sub-questions that you have asked before.\\n    Decompose the question in a reasonable and smart way. \\n    Only give one sub-question each time.\\n    Sub questions that you have asked before, if any:\\n                \\n                \\n    Think step by step.\\n    Based on the given context, provide your answer to the following question: What is the river where Long Spruce Generating Station is located a tributary of?\\n    Your answer shall be in the following JSON format:\\n    {\\n        \"decomposition\": true, \\n        \"sub question\": <A sub question that you would like to ask>\\n    }\\n    OR\\n    {\"decomposition\": false}\\n    ', 'role': 'user'}, {'content': '{\"decomposition\": true, \"sub question\": \" On which river is the Long Spruce Generating Station located?\"}', 'role': 'assistant'}], 'rejected': [{'content': 'Your task is to decide whether question decomposition is necessary to answer a given question, if yes, which sub-question shall be asked. \\n    Do not ask same or similar sub-questions that you have asked before.\\n    Decompose the question in a reasonable and smart way. \\n    Only give one sub-question each time.\\n    Sub questions that you have asked before, if any:\\n                \\n                \\n    Think step by step.\\n    Based on the given context, provide your answer to the following question: What is the river where Long Spruce Generating Station is located a tributary of?\\n    Your answer shall be in the following JSON format:\\n    {\\n        \"decomposition\": true, \\n        \"sub question\": <A sub question that you would like to ask>\\n    }\\n    OR\\n    {\"decomposition\": false}\\n    ', 'role': 'user'}, {'content': '{\"decomposition\": true, \"sub question\": \" From what does Arthur Curry\\'s metahuman aquatic abilities originate in the \"Justice League\" film?\"}', 'role': 'assistant'}]}\n"
     ]
    }
   ],
   "source": [
    "import json\n",
    "import jsonlines\n",
    "from vllm import LLM, SamplingParams\n",
    "from datasets import load_dataset, load_from_disk\n",
    "import os\n",
    "import json\n",
    "\n",
    "\n",
    "\n",
    "\n",
    "\n",
    "llm = LLM(model=args.model)\n",
    "tokenizer = llm.get_tokenizer()\n",
    "\n",
    "train_dataset= load_dataset(data_dir, split='train_prefs')\n",
    "\n",
    "prompts = sorted(list(set(train_dataset['prompt'])))\n",
    "\n",
    "conversations = [tokenizer.apply_chat_template([{'role': 'user', 'content': prompt}], tokenize=False, add_generation_prompt=True) for prompt in prompts]\n",
    "\n",
    "sampling_params = SamplingParams(temperature=args.temperature, \n",
    "                                 top_p=args.top_p, \n",
    "                                 max_tokens=args.max_tokens, \n",
    "                                 seed=args.seed,)\n",
    "outputs = llm.generate(conversations, sampling_params)\n",
    "\n",
    "# Save the outputs as a JSON file.\n",
    "output_data = []\n",
    "for i, output in enumerate(outputs):\n",
    "    prompt = output.prompt\n",
    "    generated_text = output.outputs[0].text\n",
    "    output_data.append({\n",
    "        'prompt': prompts[i],\n",
    "        \"format_prompt\": prompt,\n",
    "        'generated_text': generated_text,\n",
    "    })\n",
    "\n",
    "\n",
    "all_data = []\n",
    "with jsonlines.open(\"./on_policy_data_gen/datasets/llama3.1_8B_ultrafeedback/cpo_data.json\") as reader:\n",
    "    for obj in reader:\n",
    "        obj[\"type\"] = \"D\"\n",
    "        obj[\"rejected\"][1][\"content\"] = \n",
    "        print(obj)\n",
    "        break"
   ]
  }
 ],
 "metadata": {
  "kernelspec": {
   "display_name": "simpo",
   "language": "python",
   "name": "python3"
  },
  "language_info": {
   "codemirror_mode": {
    "name": "ipython",
    "version": 3
   },
   "file_extension": ".py",
   "mimetype": "text/x-python",
   "name": "python",
   "nbconvert_exporter": "python",
   "pygments_lexer": "ipython3",
   "version": "3.10.14"
  }
 },
 "nbformat": 4,
 "nbformat_minor": 2
}
