{
 "cells": [
  {
   "cell_type": "code",
   "execution_count": 8,
   "metadata": {},
   "outputs": [],
   "source": [
    "from datasets import load_from_disk\n",
    "\n",
    "\n",
    "all_data = []\n",
    "ds_DBAR = load_from_disk(\"./on_policy_data_gen/datasets/llama3.1_8B_ultrafeedback\")\n",
    "for item in ds_DBAR:\n",
    "    all_data.append({\n",
    "        \"prompt\": item[\"prompt\"],\n",
    "        \"chosen\": item[\"chosen\"],\n",
    "        \"rejected\": item[\"rejected\"],\n",
    "        \"type\": \"DBAR\"\n",
    "    })"
   ]
  },
  {
   "cell_type": "code",
   "execution_count": 3,
   "metadata": {},
   "outputs": [
    {
     "name": "stderr",
     "output_type": "stream",
     "text": [
      "Saving the dataset (1/1 shards): 100%|██████████| 13332/13332 [00:00<00:00, 163416.35 examples/s]\n"
     ]
    }
   ],
   "source": [
    "import datasets\n",
    "import jsonlines\n",
    "\n",
    "\n",
    "output_data = []\n",
    "with jsonlines.open(\"/home/lesong/codes/SimPO/datasets/llama3.1_8B_ultrafeedback/all_train_data_1.json\") as reader:\n",
    "    for obj in reader:\n",
    "        output_data.append(obj)\n",
    "\n",
    "dataset = datasets.Dataset.from_list(output_data)\n",
    "dataset = dataset.train_test_split(test_size=0.2)\n",
    "dataset.save_to_disk(\"/home/lesong/codes/SimPO/datasets/llama3.1_8B_ultrafeedback/cpo_dataset\")"
   ]
  },
  {
   "cell_type": "code",
   "execution_count": 9,
   "metadata": {},
   "outputs": [],
   "source": [
    "import jsonlines\n",
    "\n",
    "with jsonlines.open(\"./on_policy_data_gen/datasets/llama3.1_8B_ultrafeedback/cpo_data.json\") as reader:\n",
    "    for item in reader:\n",
    "        all_data.append({\n",
    "        \"prompt\": item[\"prompt\"],\n",
    "        \"chosen\": item[\"chosen\"],\n",
    "        \"rejected\": item[\"rejected\"],\n",
    "        \"type\": \"D\"\n",
    "    })"
   ]
  },
  {
   "cell_type": "code",
   "execution_count": 12,
   "metadata": {},
   "outputs": [],
   "source": [
    "with jsonlines.open(\"all_train_data.json\", \"w\") as writter:\n",
    "    writter.write_all(all_data)"
   ]
  },
  {
   "cell_type": "code",
   "execution_count": 2,
   "metadata": {},
   "outputs": [
    {
     "name": "stdout",
     "output_type": "stream",
     "text": [
      "{'prompt': 'Your task is to decide whether question decomposition is necessary to answer a given question, if yes, which sub-question shall be asked. \\n    Do not ask same or similar sub-questions that you have asked before.\\n    Decompose the question in a reasonable and smart way. \\n    Only give one sub-question each time.\\n    Sub questions that you have asked before, if any:\\n                \\n                \\n    Think step by step.\\n    Based on the given context, provide your answer to the following question: What is the river where Long Spruce Generating Station is located a tributary of?\\n    Your answer shall be in the following JSON format:\\n    {\\n        \"decomposition\": true, \\n        \"sub question\": <A sub question that you would like to ask>\\n    }\\n    OR\\n    {\"decomposition\": false}\\n    ', 'chosen': [{'content': 'Your task is to decide whether question decomposition is necessary to answer a given question, if yes, which sub-question shall be asked. \\n    Do not ask same or similar sub-questions that you have asked before.\\n    Decompose the question in a reasonable and smart way. \\n    Only give one sub-question each time.\\n    Sub questions that you have asked before, if any:\\n                \\n                \\n    Think step by step.\\n    Based on the given context, provide your answer to the following question: What is the river where Long Spruce Generating Station is located a tributary of?\\n    Your answer shall be in the following JSON format:\\n    {\\n        \"decomposition\": true, \\n        \"sub question\": <A sub question that you would like to ask>\\n    }\\n    OR\\n    {\"decomposition\": false}\\n    ', 'role': 'user'}, {'content': '{\"decomposition\": true, \"sub question\": \" On which river is the Long Spruce Generating Station located?\"}', 'role': 'assistant'}], 'rejected': [{'content': 'Your task is to decide whether question decomposition is necessary to answer a given question, if yes, which sub-question shall be asked. \\n    Do not ask same or similar sub-questions that you have asked before.\\n    Decompose the question in a reasonable and smart way. \\n    Only give one sub-question each time.\\n    Sub questions that you have asked before, if any:\\n                \\n                \\n    Think step by step.\\n    Based on the given context, provide your answer to the following question: What is the river where Long Spruce Generating Station is located a tributary of?\\n    Your answer shall be in the following JSON format:\\n    {\\n        \"decomposition\": true, \\n        \"sub question\": <A sub question that you would like to ask>\\n    }\\n    OR\\n    {\"decomposition\": false}\\n    ', 'role': 'user'}, {'content': '{\"decomposition\": true, \"sub question\": \" From what does Arthur Curry\\'s metahuman aquatic abilities originate in the \"Justice League\" film?\"}', 'role': 'assistant'}]}\n"
     ]
    }
   ],
   "source": [
    "import json\n",
    "import jsonlines\n",
    "from vllm import LLM, SamplingParams\n",
    "from datasets import load_dataset, load_from_disk\n",
    "import os\n",
    "import json\n",
    "\n",
    "\n",
    "\n",
    "\n",
    "\n",
    "llm = LLM(model=args.model)\n",
    "tokenizer = llm.get_tokenizer()\n",
    "\n",
    "train_dataset= load_dataset(data_dir, split='train_prefs')\n",
    "\n",
    "prompts = sorted(list(set(train_dataset['prompt'])))\n",
    "\n",
    "conversations = [tokenizer.apply_chat_template([{'role': 'user', 'content': prompt}], tokenize=False, add_generation_prompt=True) for prompt in prompts]\n",
    "\n",
    "sampling_params = SamplingParams(temperature=args.temperature, \n",
    "                                 top_p=args.top_p, \n",
    "                                 max_tokens=args.max_tokens, \n",
    "                                 seed=args.seed,)\n",
    "outputs = llm.generate(conversations, sampling_params)\n",
    "\n",
    "# Save the outputs as a JSON file.\n",
    "output_data = []\n",
    "for i, output in enumerate(outputs):\n",
    "    prompt = output.prompt\n",
    "    generated_text = output.outputs[0].text\n",
    "    output_data.append({\n",
    "        'prompt': prompts[i],\n",
    "        \"format_prompt\": prompt,\n",
    "        'generated_text': generated_text,\n",
    "    })\n",
    "\n",
    "\n",
    "all_data = []\n",
    "with jsonlines.open(\"./on_policy_data_gen/datasets/llama3.1_8B_ultrafeedback/cpo_data.json\") as reader:\n",
    "    for obj in reader:\n",
    "        obj[\"type\"] = \"D\"\n",
    "        obj[\"rejected\"][1][\"content\"] = \n",
    "        print(obj)\n",
    "        break"
   ]
  }
 ],
 "metadata": {
  "kernelspec": {
   "display_name": "simpo",
   "language": "python",
   "name": "python3"
  },
  "language_info": {
   "codemirror_mode": {
    "name": "ipython",
    "version": 3
   },
   "file_extension": ".py",
   "mimetype": "text/x-python",
   "name": "python",
   "nbconvert_exporter": "python",
   "pygments_lexer": "ipython3",
   "version": "3.10.14"
  }
 },
 "nbformat": 4,
 "nbformat_minor": 2
}
