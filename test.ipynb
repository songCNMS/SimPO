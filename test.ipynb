{
 "cells": [
  {
   "cell_type": "code",
   "execution_count": 2,
   "metadata": {},
   "outputs": [
    {
     "name": "stderr",
     "output_type": "stream",
     "text": [
      "/home/lesong/anaconda3/envs/myenv/lib/python3.10/site-packages/tqdm/auto.py:21: TqdmWarning: IProgress not found. Please update jupyter and ipywidgets. See https://ipywidgets.readthedocs.io/en/stable/user_install.html\n",
      "  from .autonotebook import tqdm as notebook_tqdm\n"
     ]
    }
   ],
   "source": [
    "from datasets import load_from_disk\n",
    "ds = load_from_disk(\"/home/lesong/codes/SimPO/datasets/qwen25-3b\")"
   ]
  },
  {
   "cell_type": "code",
   "execution_count": 5,
   "metadata": {},
   "outputs": [
    {
     "data": {
      "text/plain": [
       "{'prompt': '\\n\\nA federal judge on Thursday rejected efforts by Texas to stop the resettlement of Syrian refugees within its borders. The ruling comes days after presumptive Republican presidential nominee Donald Trump called to block non-citizen Muslims from entering the U.S. following the Orlando nightclub massacre. Even before the attack, Americans were divided, mostly along party lines, on the issue of refugees from war-torn countries in the Middle East. A survey conducted in late May by the Brookings Institution found of those polled, just 38 percent of Republicans supported taking in refugees from Syria and the Middle East, compared with 77 percent of Democrats. But among Trump supporters, an overwhelming 77 percent said they oppose taking in refugees. So who are these people who cause such a divide among Americans, triggering feelings of dread and suspicion in some and feelings of empathy and hospitality in others? Millions have been forced to flee the bloody conflicts in Syria, Iraq, Libya and other Middle Eastern nations. In 1951 the United Nation\\'s Refugee Convention defined a refugee as someone who \"owing to a well-founded fear of being persecuted for reasons of race, religion, nationality, membership of a particular social group or political opinion, is outside the country of his nationality, and is unable to, or owing to such fear, is unwilling to avail himself of the protection of that country.\" By the end of 2014, there were 19.5 million refugees worldwide, according to the United Nations, 14.4 million of whom were under the mandate of the United Nations Human Rights Council. This was an increase of 2.9 million from 2013. The remaining 5.1 million refugees were registered with the United Nations Relief and Works Agency. However, there are an estimated 59.5 million forcibly displaced persons around the world, according to United Nation\\'s Global Trends report. This population not only includes refugees, but internally displaced persons, asylum-seekers and stateless people as well. President Barack Obama has set... According to the above context, answer the following question. how much money has probably been spent on resettling refugees\\nAnswer:',\n",
       " 'all_generated_responses': ['The text provided does not contain specific information about the amount of money spent on resettling refugees. The passage mainly focuses on providing context about who refugees are and the current number of refugees worldwide. To answer this question accurately, we would need additional data or information about current or recent resettlement programs and financial allocations.',\n",
       "  \"The passage you've shared does not provide specific information about the amount of money spent on resettling refugees. The text discusses the refugee crisis and their status, including the numbers of refugees worldwide and the criteria for refugee status, but it does not mention any financial figures or spending related to refugee resettlement.\\n\\nTo provide an accurate answer to the question of how much money has been spent on resettling refugees, we would need to look at official reports or financial data from organizations involved in refugee resettlement, such as the United Nations High Commissioner for Refugees (UNHCR) or other national and international organizations involved in refugee assistance and resettlement.\\n\\nIf you have additional context or a specific timeframe you're interested in, I would be able to provide more accurate information.\",\n",
       "  \"The passage provided does not contain specific information about the amount of money spent on resettling refugees. It mainly discusses the current situation and general statistics about refugees and the United States' policy regarding their resettlement. To accurately determine how much money has been spent on resettling refugees, one would need to refer to more detailed financial reports or budget records from the relevant government agencies, such as the U.S. Department of State or Department of Homeland Security. Without such specific data, it's not possible to provide an estimate of the money spent on resettlement.\",\n",
       "  'The passage does not provide specific information about the amount of money that has been spent on resettling refugees. The text focuses on the political and public opinion aspects of the refugee issue and the international contexts of refugees, but it does not give details about financial expenditures related to refugee resettlement. To determine the specific amount of money spent on resettling refugees, one would need to consult official reports from organizations like the United Nations High Commissioner for Refugees (UNHCR), or national government reports on refugee programs.',\n",
       "  'The passage provided does not contain specific information about the amount of money spent on resettling refugees. It primarily discusses the issues of refugees fleeing conflicts in the Middle East, the definition of refugees according to the United Nations, and the varying opinions on refugee resettlement in the United States. To accurately answer how much money has been spent on resettling refugees, we would need additional data and information that is not present in the given text.',\n",
       "  \"The exact amount of money spent on resettling refugees is not provided in the context you've shared. The passage focuses on the current situation with regards to refugee resettlement policies, the motivations behind them, and the differing opinions on the issue among Americans. It provides details on the number of refugees and displaced persons globally, but does not include figures on funding or financial expenditures related to resettlement.\\n\\nFor accurate and up-to-date information on the financial aspects of refugee resettlement, you would need to consult official reports or financial databases from organizations like the U.S. Department of State, UNHCR (United Nations High Commissioner for Refugees), or other relevant governmental or non-governmental agencies involved in refugee support and resettlement efforts.\",\n",
       "  'The passage does not provide specific information about how much money has been spent on resettling refugees. The text discusses the numbers of refugees worldwide, the definition of refugees according to the United Nations, and some demographic details, but it does not mention any figures related to financial expenditures for resettlement efforts.\\n\\nFor accurate figures on the amount of money spent on resettling refugees, one would need to consult reports from organizations like the United Nations High Commissioner for Refugees (UNHCR), U.S. government statistics, or reports from reputable news sources that specialize in refugee issues. These organizations often provide detailed financial information about the costs associated with resettling refugees.',\n",
       "  'The passage does not provide specific information about the amount of money that has been spent on resettling refugees. The text primarily focuses on describing the situation of refugees and the debates surrounding their resettlement in the United States, but does not give financial details. To find out the specific amount of money spent on resettling refugees, one would need to look into current government reports or refugee assistance programs, which are not discussed in the given context.',\n",
       "  \"The passage provided does not contain specific information about the amount of money that has been spent on resettling refugees. The text discusses the number of refugees globally and mentions that President Obama has set a goal for resettling refugees, but it does not provide figures related to funding or financial expenditure.\\n\\nTo estimate the amount of money spent, additional sources such as the US Department of State, Office of Refugee Resettlement (ORR) data, or international aid organizations' reports would be necessary. These organizations often publish detailed financial reports related to refugee resettlement, providing insights into the financial resources allocated for this purpose.\",\n",
       "  \"The passage provided does not contain specific information about the amount of money spent on resettling refugees. The text discusses the number of refugees worldwide, the United Nations' definitions of refugees, and the current number of forcibly displaced persons. It also mentions that President Obama has set a goal of resettling 110,000 refugees from Syria annually, but it does not provide a figure for the total amount of money spent on this resettlement.\\n\\nFor accurate information about the financial costs of resettling refugees, you would need to consult more recent reports or official U.S. government documents related to refugee programs.\"],\n",
       " 'all_rm_scores': [0.11669921875,\n",
       "  0.095703125,\n",
       "  0.1015625,\n",
       "  0.1064453125,\n",
       "  0.11083984375,\n",
       "  0.1025390625,\n",
       "  0.1015625,\n",
       "  0.1064453125,\n",
       "  0.09521484375,\n",
       "  0.0791015625],\n",
       " 'chosen': [{'content': '\\n\\nA federal judge on Thursday rejected efforts by Texas to stop the resettlement of Syrian refugees within its borders. The ruling comes days after presumptive Republican presidential nominee Donald Trump called to block non-citizen Muslims from entering the U.S. following the Orlando nightclub massacre. Even before the attack, Americans were divided, mostly along party lines, on the issue of refugees from war-torn countries in the Middle East. A survey conducted in late May by the Brookings Institution found of those polled, just 38 percent of Republicans supported taking in refugees from Syria and the Middle East, compared with 77 percent of Democrats. But among Trump supporters, an overwhelming 77 percent said they oppose taking in refugees. So who are these people who cause such a divide among Americans, triggering feelings of dread and suspicion in some and feelings of empathy and hospitality in others? Millions have been forced to flee the bloody conflicts in Syria, Iraq, Libya and other Middle Eastern nations. In 1951 the United Nation\\'s Refugee Convention defined a refugee as someone who \"owing to a well-founded fear of being persecuted for reasons of race, religion, nationality, membership of a particular social group or political opinion, is outside the country of his nationality, and is unable to, or owing to such fear, is unwilling to avail himself of the protection of that country.\" By the end of 2014, there were 19.5 million refugees worldwide, according to the United Nations, 14.4 million of whom were under the mandate of the United Nations Human Rights Council. This was an increase of 2.9 million from 2013. The remaining 5.1 million refugees were registered with the United Nations Relief and Works Agency. However, there are an estimated 59.5 million forcibly displaced persons around the world, according to United Nation\\'s Global Trends report. This population not only includes refugees, but internally displaced persons, asylum-seekers and stateless people as well. President Barack Obama has set... According to the above context, answer the following question. how much money has probably been spent on resettling refugees\\nAnswer:',\n",
       "   'role': 'user'},\n",
       "  {'content': 'The text provided does not contain specific information about the amount of money spent on resettling refugees. The passage mainly focuses on providing context about who refugees are and the current number of refugees worldwide. To answer this question accurately, we would need additional data or information about current or recent resettlement programs and financial allocations.',\n",
       "   'role': 'assistant'}],\n",
       " 'rejected': [{'content': '\\n\\nA federal judge on Thursday rejected efforts by Texas to stop the resettlement of Syrian refugees within its borders. The ruling comes days after presumptive Republican presidential nominee Donald Trump called to block non-citizen Muslims from entering the U.S. following the Orlando nightclub massacre. Even before the attack, Americans were divided, mostly along party lines, on the issue of refugees from war-torn countries in the Middle East. A survey conducted in late May by the Brookings Institution found of those polled, just 38 percent of Republicans supported taking in refugees from Syria and the Middle East, compared with 77 percent of Democrats. But among Trump supporters, an overwhelming 77 percent said they oppose taking in refugees. So who are these people who cause such a divide among Americans, triggering feelings of dread and suspicion in some and feelings of empathy and hospitality in others? Millions have been forced to flee the bloody conflicts in Syria, Iraq, Libya and other Middle Eastern nations. In 1951 the United Nation\\'s Refugee Convention defined a refugee as someone who \"owing to a well-founded fear of being persecuted for reasons of race, religion, nationality, membership of a particular social group or political opinion, is outside the country of his nationality, and is unable to, or owing to such fear, is unwilling to avail himself of the protection of that country.\" By the end of 2014, there were 19.5 million refugees worldwide, according to the United Nations, 14.4 million of whom were under the mandate of the United Nations Human Rights Council. This was an increase of 2.9 million from 2013. The remaining 5.1 million refugees were registered with the United Nations Relief and Works Agency. However, there are an estimated 59.5 million forcibly displaced persons around the world, according to United Nation\\'s Global Trends report. This population not only includes refugees, but internally displaced persons, asylum-seekers and stateless people as well. President Barack Obama has set... According to the above context, answer the following question. how much money has probably been spent on resettling refugees\\nAnswer:',\n",
       "   'role': 'user'},\n",
       "  {'content': \"The passage provided does not contain specific information about the amount of money spent on resettling refugees. The text discusses the number of refugees worldwide, the United Nations' definitions of refugees, and the current number of forcibly displaced persons. It also mentions that President Obama has set a goal of resettling 110,000 refugees from Syria annually, but it does not provide a figure for the total amount of money spent on this resettlement.\\n\\nFor accurate information about the financial costs of resettling refugees, you would need to consult more recent reports or official U.S. government documents related to refugee programs.\",\n",
       "   'role': 'assistant'}]}"
      ]
     },
     "execution_count": 5,
     "metadata": {},
     "output_type": "execute_result"
    }
   ],
   "source": [
    "ds[0]"
   ]
  },
  {
   "cell_type": "code",
   "execution_count": 3,
   "metadata": {},
   "outputs": [],
   "source": [
    "import json\n",
    "\n",
    "with open(\"/home/lesong/codes/SimPO/datasets/qwen25-3b/all_outputs.json\", \"r\") as f:\n",
    "    data = json.load(f)\n",
    "    "
   ]
  },
  {
   "cell_type": "code",
   "execution_count": 5,
   "metadata": {},
   "outputs": [
    {
     "data": {
      "text/plain": [
       "59332"
      ]
     },
     "execution_count": 5,
     "metadata": {},
     "output_type": "execute_result"
    }
   ],
   "source": []
  },
  {
   "cell_type": "code",
   "execution_count": 9,
   "metadata": {},
   "outputs": [],
   "source": [
    "import os \n",
    "import PyPDF2\n",
    "from PyPDF2 import PdfReader , PdfWriter, PdfMerger\n",
    "\n",
    "pdfWriter = PyPDF2.PdfWriter()\n",
    "\n",
    "pdfFileObj = open(\"../111.pdf\", 'rb') # Opens each of the file paths in filename variable.\n",
    "pdfReader = PyPDF2.PdfReader(pdfFileObj) # Reads each of the files in the new varaible you've created above and stores into memory.\n",
    "for i in range(5):\n",
    "    pageObj = pdfReader.pages[i] # Reads only those that are in the varaible.\n",
    "    pdfWriter.add_page(pageObj)\n",
    "\n",
    "pdfFileObj = open(\"../1.pdf\", 'rb') # Opens each of the file paths in filename variable.\n",
    "pdfReader = PyPDF2.PdfReader(pdfFileObj) # Reads each of the files in the new varaible you've created above and stores into memory.\n",
    "pageObj = pdfReader.pages[0] # Reads only those that are in the varaible.\n",
    "pdfWriter.add_page(pageObj)\n",
    "\n",
    "pdfOutput = open('res.pdf', 'wb') \n",
    "\n",
    "# Writing the output file using the pdfWriter function.\n",
    "pdfWriter.write(pdfOutput)\n",
    "pdfOutput.close()\n",
    "\n"
   ]
  },
  {
   "cell_type": "code",
   "execution_count": 7,
   "metadata": {},
   "outputs": [
    {
     "name": "stdout",
     "output_type": "stream",
     "text": [
      "+----+---------------------------+-----------------------+-------------------------+---------------------------+------------------------+---------------------+-----------------------+\n",
      "|    | exp_name                  |   eval_rewards/chosen |   eval_rewards/rejected |   eval_rewards/accuracies |   eval_rewards/margins |   eval_logps/chosen |   eval_logps/rejected |\n",
      "|----+---------------------------+-----------------------+-------------------------+---------------------------+------------------------+---------------------+-----------------------|\n",
      "|  0 | D_SFTReg-3_3              |            -44.9486   |              -88.061    |                  0.988235 |             43.1124    |          -55.6761   |           -109.682    |\n",
      "|  1 | DBAR_SFTReg-3_3           |             -0.968379 |               -0.978862 |                  0.394631 |              0.0104836 |           -0.968379 |             -0.978862 |\n",
      "|  2 | D_simpo-3_3               |            -61.5874   |             -143.436    |                  1        |             81.849     |           -6.15874  |            -14.3436   |\n",
      "|  3 | DBAR_simpo-3_3            |           -115.731    |             -137.577    |                  0.62349  |             21.8457    |          -11.5731   |            -13.7577   |\n",
      "|  4 | D_alphaDPO-3_3            |           -887.73     |            -1383.33     |                  0.801961 |            495.603     |          -88.773    |           -138.333    |\n",
      "|  5 | DBAR_alphaDPO-3_3         |           -714.848    |             -842.466    |                  0.48255  |            127.618     |          -71.4848   |            -84.2466   |\n",
      "|  6 | D_simpo-3_3_ori_rej       |           -131.675    |             -171.138    |                  0.905882 |             39.463     |          -13.1675   |            -17.1138   |\n",
      "|  7 | DBAR_simpo-3_3_ori_rej    |           -148.673    |             -170.236    |                  0.647651 |             21.5627    |          -14.8673   |            -17.0236   |\n",
      "|  8 | D_alphaDPO-3_3_ori_rej    |            -25.1696   |              -51.7989   |                  0.839216 |             26.6294    |          -25.1696   |            -51.7989   |\n",
      "|  9 | DBAR_alphaDPO-3_3_ori_rej |            -38.9046   |              -51.8414   |                  0.522819 |             12.9368    |          -38.9046   |            -51.8414   |\n",
      "+----+---------------------------+-----------------------+-------------------------+---------------------------+------------------------+---------------------+-----------------------+\n"
     ]
    }
   ],
   "source": [
    "import pandas as pd\n",
    "import jsonlines\n",
    "from tabulate import tabulate\n",
    "\n",
    "\n",
    "data = []\n",
    "columns = None\n",
    "with jsonlines.open(\"/home/lesong/codes/SimPO/logs/llama3b_20.0/metrics.jsonl\") as reader:\n",
    "    for obj in reader:\n",
    "        if columns is None:\n",
    "            columns = [\"exp_name\"] + [x for x in obj.keys() if x.startswith(\"eval_rewards\")] + [\"eval_logps/chosen\", \"eval_logps/rejected\"]\n",
    "        if not obj[\"exp_name\"].endswith(\"3_3\"): continue\n",
    "        data.append([obj[x] for x in columns])\n",
    "\n",
    "with jsonlines.open(\"/home/lesong/codes/SimPO/logs/llama3b_original_rejected/metrics.jsonl\") as reader:\n",
    "    for obj in reader:\n",
    "        if not obj[\"exp_name\"].endswith(\"3_3\"): continue\n",
    "        obj[\"exp_name\"] += \"_ori_rej\"\n",
    "        data.append([obj[x] for x in columns])\n",
    "\n",
    "\n",
    "df = pd.DataFrame(data=data, columns = columns)\n",
    "\n",
    "print(tabulate(df, headers='keys', tablefmt='psql'))\n"
   ]
  },
  {
   "cell_type": "code",
   "execution_count": 2,
   "metadata": {},
   "outputs": [
    {
     "name": "stderr",
     "output_type": "stream",
     "text": [
      "/home/lesong/anaconda3/envs/simpo/lib/python3.10/site-packages/tqdm/auto.py:21: TqdmWarning: IProgress not found. Please update jupyter and ipywidgets. See https://ipywidgets.readthedocs.io/en/stable/user_install.html\n",
      "  from .autonotebook import tqdm as notebook_tqdm\n"
     ]
    }
   ],
   "source": [
    "from datasets import load_from_disk\n",
    "import json\n",
    "\n",
    "all_data = []\n",
    "# ds_DBAR = load_from_disk(\"/home/lesong/codes/SimPO/datasets/llama3.1_8B_ultrafeedback/cpo_dataset_1\")\n",
    "with open(\"/home/lesong/codes/SimPO/on_policy_data_gen/datasets/llama3.1_8B_ultrafeedback/all_outputs_rm.json\", \"r\") as f:\n",
    "    ds_DBAR = json.load(f)\n",
    "\n",
    "for item in ds_DBAR:\n",
    "    all_data.append({\n",
    "        \"prompt\": item[\"prompt\"],\n",
    "        \"chosen\": item[\"chosen\"],\n",
    "        \"rejected\": item[\"rejected\"],\n",
    "        \"type\": \"DBAR\"\n",
    "    })"
   ]
  },
  {
   "cell_type": "code",
   "execution_count": null,
   "metadata": {},
   "outputs": [],
   "source": [
    "import datasets\n",
    "\n",
    "ultrafeedback = datasets.load(\"princeton-nlp/gemma2-ultrafeedback-armorm\")"
   ]
  },
  {
   "cell_type": "code",
   "execution_count": 1,
   "metadata": {},
   "outputs": [],
   "source": [
    "import jsonlines\n",
    "all_data = []\n",
    "\n",
    "with jsonlines.open(\"/home/lesong/codes/SimPO/data/cpo_data.json\") as reader:\n",
    "    for item in reader:\n",
    "        all_data.append({\n",
    "            \"prompt\": item[\"prompt\"],\n",
    "            \"chosen\": item[\"chosen\"],\n",
    "            \"rejected\": item[\"rejected\"],\n",
    "            \"type\": \"D\"\n",
    "    })\n",
    "\n",
    "with jsonlines.open(\"/home/lesong/codes/SimPO/data/all_train_data.json\") as reader:\n",
    "    for item in reader:\n",
    "        if item[\"prompt\"].startswith(\"Your task is to decide whether question decomposition is necessary to answer a given question\"): continue\n",
    "        all_data.append({\n",
    "        \"prompt\": item[\"prompt\"],\n",
    "        \"chosen\": item[\"chosen\"],\n",
    "        \"rejected\": item[\"rejected\"],\n",
    "        \"type\": \"DBAR\"\n",
    "    })\n",
    "\n",
    "        \n",
    "with jsonlines.open(\"data/all_train_data.json\", \"w\") as writter:\n",
    "    writter.write_all(all_data)"
   ]
  },
  {
   "cell_type": "code",
   "execution_count": 2,
   "metadata": {},
   "outputs": [
    {
     "name": "stdout",
     "output_type": "stream",
     "text": [
      "{'prompt': 'Your task is to decide whether question decomposition is necessary to answer a given question, if yes, which sub-question shall be asked. \\n    Do not ask same or similar sub-questions that you have asked before.\\n    Decompose the question in a reasonable and smart way. \\n    Only give one sub-question each time.\\n    Sub questions that you have asked before, if any:\\n                \\n                \\n    Think step by step.\\n    Based on the given context, provide your answer to the following question: What is the river where Long Spruce Generating Station is located a tributary of?\\n    Your answer shall be in the following JSON format:\\n    {\\n        \"decomposition\": true, \\n        \"sub question\": <A sub question that you would like to ask>\\n    }\\n    OR\\n    {\"decomposition\": false}\\n    ', 'chosen': [{'content': 'Your task is to decide whether question decomposition is necessary to answer a given question, if yes, which sub-question shall be asked. \\n    Do not ask same or similar sub-questions that you have asked before.\\n    Decompose the question in a reasonable and smart way. \\n    Only give one sub-question each time.\\n    Sub questions that you have asked before, if any:\\n                \\n                \\n    Think step by step.\\n    Based on the given context, provide your answer to the following question: What is the river where Long Spruce Generating Station is located a tributary of?\\n    Your answer shall be in the following JSON format:\\n    {\\n        \"decomposition\": true, \\n        \"sub question\": <A sub question that you would like to ask>\\n    }\\n    OR\\n    {\"decomposition\": false}\\n    ', 'role': 'user'}, {'content': '{\"decomposition\": true, \"sub question\": \" On which river is the Long Spruce Generating Station located?\"}', 'role': 'assistant'}], 'rejected': [{'content': 'Your task is to decide whether question decomposition is necessary to answer a given question, if yes, which sub-question shall be asked. \\n    Do not ask same or similar sub-questions that you have asked before.\\n    Decompose the question in a reasonable and smart way. \\n    Only give one sub-question each time.\\n    Sub questions that you have asked before, if any:\\n                \\n                \\n    Think step by step.\\n    Based on the given context, provide your answer to the following question: What is the river where Long Spruce Generating Station is located a tributary of?\\n    Your answer shall be in the following JSON format:\\n    {\\n        \"decomposition\": true, \\n        \"sub question\": <A sub question that you would like to ask>\\n    }\\n    OR\\n    {\"decomposition\": false}\\n    ', 'role': 'user'}, {'content': '{\"decomposition\": true, \"sub question\": \" From what does Arthur Curry\\'s metahuman aquatic abilities originate in the \"Justice League\" film?\"}', 'role': 'assistant'}]}\n"
     ]
    }
   ],
   "source": [
    "import json\n",
    "import jsonlines\n",
    "from vllm import LLM, SamplingParams\n",
    "from datasets import load_dataset, load_from_disk\n",
    "import os\n",
    "import json\n",
    "\n",
    "\n",
    "\n",
    "\n",
    "\n",
    "llm = LLM(model=args.model)\n",
    "tokenizer = llm.get_tokenizer()\n",
    "\n",
    "train_dataset= load_dataset(data_dir, split='train_prefs')\n",
    "\n",
    "prompts = sorted(list(set(train_dataset['prompt'])))\n",
    "\n",
    "conversations = [tokenizer.apply_chat_template([{'role': 'user', 'content': prompt}], tokenize=False, add_generation_prompt=True) for prompt in prompts]\n",
    "\n",
    "sampling_params = SamplingParams(temperature=args.temperature, \n",
    "                                 top_p=args.top_p, \n",
    "                                 max_tokens=args.max_tokens, \n",
    "                                 seed=args.seed,)\n",
    "outputs = llm.generate(conversations, sampling_params)\n",
    "\n",
    "# Save the outputs as a JSON file.\n",
    "output_data = []\n",
    "for i, output in enumerate(outputs):\n",
    "    prompt = output.prompt\n",
    "    generated_text = output.outputs[0].text\n",
    "    output_data.append({\n",
    "        'prompt': prompts[i],\n",
    "        \"format_prompt\": prompt,\n",
    "        'generated_text': generated_text,\n",
    "    })\n",
    "\n",
    "\n",
    "all_data = []\n",
    "with jsonlines.open(\"./on_policy_data_gen/datasets/llama3.1_8B_ultrafeedback/cpo_data.json\") as reader:\n",
    "    for obj in reader:\n",
    "        obj[\"type\"] = \"D\"\n",
    "        obj[\"rejected\"][1][\"content\"] = \n",
    "        print(obj)\n",
    "        break"
   ]
  },
  {
   "cell_type": "code",
   "execution_count": 1,
   "metadata": {},
   "outputs": [
    {
     "name": "stderr",
     "output_type": "stream",
     "text": [
      "/home/lesong/anaconda3/envs/simpo/lib/python3.10/site-packages/tqdm/auto.py:21: TqdmWarning: IProgress not found. Please update jupyter and ipywidgets. See https://ipywidgets.readthedocs.io/en/stable/user_install.html\n",
      "  from .autonotebook import tqdm as notebook_tqdm\n",
      "Loading checkpoint shards: 100%|██████████| 2/2 [00:03<00:00,  1.80s/it]\n"
     ]
    }
   ],
   "source": [
    "from transformers import AutoModelForCausalLM, AutoTokenizer\n",
    "\n",
    "# model_name = \"/home/lesong/codes/SimPO/outputs/llama-3-3b-instruct-simpo-v2_1\"\n",
    "\n",
    "model_name = \"Qwen/Qwen2.5-3B-Instruct\"\n",
    "\n",
    "# model_name = \"meta-llama/Llama-3.2-3B-Instruct\"\n",
    "\n",
    "# llm_model = AutoModelForCausalLM.from_pretrained(model_id)\n",
    "# model.load_adapter(peft_model_id)\n",
    "\n",
    "llm_model = AutoModelForCausalLM.from_pretrained(\n",
    "    # \"meta-llama/Llama-3.2-3B-Instruct\",\n",
    "    model_name,\n",
    "    torch_dtype=\"auto\",\n",
    "    device_map=\"auto\"\n",
    ")\n",
    "# llm_model.load_adapter(model_name)\n",
    "tokenizer = AutoTokenizer.from_pretrained(model_name)\n",
    "\n",
    "def parse_decompose_response(raw_resp):\n",
    "    resp = {\"decomposition\": False}\n",
    "    start_idx, end_idx = raw_resp.find(\"<sub question>\"), raw_resp.find(\"</sub question>\")\n",
    "    if start_idx >= 0 and end_idx >= 0:\n",
    "        sub_question = raw_resp[start_idx+len(\"<sub question>\"):end_idx].strip()\n",
    "        resp[\"sub question\"] = sub_question\n",
    "        start_idx, end_idx = raw_resp.find(\"<decomposition>\"), raw_resp.find(\"</decomposition>\")\n",
    "        if start_idx >= 0 and end_idx >= 0:\n",
    "            decomposition = (True if raw_resp[start_idx+len(\"<decomposition>\"):end_idx].strip().lower() == \"true\" else False)\n",
    "            resp[\"decomposition\"] = decomposition\n",
    "    return resp\n",
    "\n"
   ]
  },
  {
   "cell_type": "code",
   "execution_count": 2,
   "metadata": {},
   "outputs": [
    {
     "data": {
      "text/plain": [
       "Dataset({\n",
       "    features: ['prompt', 'chosen', 'rejected', 'type'],\n",
       "    num_rows: 1482\n",
       "})"
      ]
     },
     "execution_count": 2,
     "metadata": {},
     "output_type": "execute_result"
    }
   ],
   "source": [
    "from datasets import load_dataset, load_from_disk\n",
    "\n",
    "dataset = load_from_disk(\"/home/lesong/codes/SimPO/datasets/llama3.1_8B_ultrafeedback/cpo_dataset_1\")\n",
    "dataset['test']"
   ]
  },
  {
   "cell_type": "code",
   "execution_count": null,
   "metadata": {},
   "outputs": [
    {
     "name": "stdout",
     "output_type": "stream",
     "text": [
      "round:  0\n",
      "responses:  ['<decomposition>true</decomposition>\\n<sub_question>Who was the king of England in 1951?</sub_question>']\n",
      "[]\n",
      "<decomposition>true</decomposition> \n",
      "    <sub question>What is the nationality of Lionel Logue, the speech and language therapist in \"The King's Speech\"?</sub question>\n",
      "round:  1\n",
      "responses:  ['<decomposition>true</decomposition>\\n<sub_question>Who was the king of England in 1951?</sub_question>']\n",
      "[]\n",
      "<decomposition>true</decomposition> \n",
      "    <sub question>What is the nationality of Lionel Logue, the speech and language therapist in \"The King's Speech\"?</sub question>\n",
      "round:  2\n",
      "responses:  ['<decomposition>true</decomposition>\\n<sub_question>Who was the king of England in 1951?</sub_question>']\n",
      "[]\n",
      "<decomposition>true</decomposition> \n",
      "    <sub question>What is the nationality of Lionel Logue, the speech and language therapist in \"The King's Speech\"?</sub question>\n",
      "round:  3\n",
      "responses:  ['<decomposition>true</decomposition>\\n<sub_question>Who was the king of England in 1951?</sub_question>']\n",
      "[]\n",
      "<decomposition>true</decomposition> \n",
      "    <sub question>What is the nationality of Lionel Logue, the speech and language therapist in \"The King's Speech\"?</sub question>\n",
      "round:  4\n",
      "responses:  ['<decomposition>true</decomposition>\\n<sub_question>Who was the king of England in 1951?</sub_question>']\n",
      "[]\n",
      "<decomposition>true</decomposition> \n",
      "    <sub question>What is the nationality of Lionel Logue, the speech and language therapist in \"The King's Speech\"?</sub question>\n"
     ]
    },
    {
     "ename": "",
     "evalue": "",
     "output_type": "error",
     "traceback": [
      "\u001b[1;31mThe Kernel crashed while executing code in the current cell or a previous cell. \n",
      "\u001b[1;31mPlease review the code in the cell(s) to identify a possible cause of the failure. \n",
      "\u001b[1;31mClick <a href='https://aka.ms/vscodeJupyterKernelCrash'>here</a> for more info. \n",
      "\u001b[1;31mView Jupyter <a href='command:jupyter.viewOutput'>log</a> for further details."
     ]
    }
   ],
   "source": [
    "import numpy as np\n",
    "\n",
    "prompt = np.random.choice(dataset[\"test\"])\n",
    "\n",
    "\n",
    "def get_response(prompt, llm_model, tokenizer):\n",
    "    messages = [\n",
    "        {\"role\": \"system\", \"content\": \"You are a helpful AI assistant.\"},\n",
    "        {\"role\": \"user\", \"content\": prompt[\"prompt\"]}\n",
    "    ]\n",
    "    text = tokenizer.apply_chat_template(\n",
    "        messages,\n",
    "        tokenize=False,\n",
    "        add_generation_prompt=True\n",
    "    )\n",
    "    model_inputs = tokenizer([text], return_tensors=\"pt\").to(llm_model.device)\n",
    "    \n",
    "    terminators = [\n",
    "            tokenizer.eos_token_id,\n",
    "            # tokenizer.convert_tokens_to_ids(\"<|eot_id|>\")\n",
    "    ]\n",
    "\n",
    "    \n",
    "\n",
    "    generated_ids = llm_model.generate(\n",
    "        **model_inputs,\n",
    "        max_new_tokens=512,\n",
    "        eos_token_id=terminators,\n",
    "        pad_token_id = tokenizer.eos_token_id,\n",
    "        temperature=1.2, \n",
    "        top_p=1.2, \n",
    "        top_k=20, \n",
    "        num_beams=5,\n",
    "        do_sample=True\n",
    "    )\n",
    "    generated_ids = [\n",
    "        output_ids[len(input_ids):] for input_ids, output_ids in zip(model_inputs.input_ids, generated_ids)\n",
    "    ]\n",
    "\n",
    "    responses = tokenizer.batch_decode(generated_ids, skip_special_tokens=True)\n",
    "    print(\"responses: \", responses)\n",
    "    sub_questions = []\n",
    "    for resp in responses:\n",
    "        resp = parse_decompose_response(resp)\n",
    "        if resp[\"decomposition\"]:\n",
    "            sub_questions.append(resp[\"sub question\"])\n",
    "    \n",
    "    return list(set(sub_questions))\n",
    "\n",
    "for i in range(5):\n",
    "    print(\"round: \", i)\n",
    "    print(get_response(prompt, llm_model, tokenizer))\n",
    "    print(prompt[\"chosen\"][1][\"content\"])"
   ]
  }
 ],
 "metadata": {
  "kernelspec": {
   "display_name": "myenv",
   "language": "python",
   "name": "python3"
  },
  "language_info": {
   "codemirror_mode": {
    "name": "ipython",
    "version": 3
   },
   "file_extension": ".py",
   "mimetype": "text/x-python",
   "name": "python",
   "nbconvert_exporter": "python",
   "pygments_lexer": "ipython3",
   "version": "3.10.15"
  }
 },
 "nbformat": 4,
 "nbformat_minor": 2
}
